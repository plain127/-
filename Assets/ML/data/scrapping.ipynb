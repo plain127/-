{
 "cells": [
  {
   "cell_type": "code",
   "execution_count": null,
   "metadata": {},
   "outputs": [],
   "source": [
    "pip install selenium webdriver-manager"
   ]
  },
  {
   "cell_type": "code",
   "execution_count": null,
   "metadata": {},
   "outputs": [],
   "source": [
    "import os \n",
    "import time\n",
    "from selenium import webdriver\n",
    "from webdriver_manager.chrome import ChromeDriverManager\n",
    "from selenium.webdriver.chrome.service import Service\n",
    "from selenium.webdriver.chrome.options import Options\n",
    "from selenium.webdriver.common.by import By\n",
    "from selenium.webdriver.support.ui import WebDriverWait\n",
    "from selenium.webdriver.support import expected_conditions as EC"
   ]
  },
  {
   "cell_type": "code",
   "execution_count": null,
   "metadata": {},
   "outputs": [],
   "source": [
    "dog_anno_num = []\n",
    "dog_species = []\n",
    "dog_color = []\n",
    "dog_sex = []\n",
    "dog_goja = []\n",
    "dog_birth_year = []\n",
    "dog_weight = []\n",
    "dog_etc = []\n",
    "dog_recep_date = []\n",
    "dog_return_result = []"
   ]
  },
  {
   "cell_type": "code",
   "execution_count": null,
   "metadata": {},
   "outputs": [],
   "source": [
    "for page_num in range(1,2493):\n",
    "    driver = webdriver.Chrome(service=Service(ChromeDriverManager().install())) \n",
    "    url = f\"https://www.animal.go.kr/front/awtis/public/publicAllList.do?totalCount=29897&pageSize=12&boardId=&menuNo=0&searchSexCd=&searchSDate=2024-01-01&searchKindCd=&desertionNo=429363202400727&searchOrgCd=&searchUpKindCd=417000&searchCareRegNo=&searchEDate=2024-06-30&searchRfid=&searchUprCd=&&page={page_num}\"\n",
    "    driver.get(url)\n",
    "\n",
    "    wait = WebDriverWait(driver, 10)\n",
    "    wait.until(EC.presence_of_element_located((By.CLASS_NAME, \"animals-list\")))\n",
    "    \n",
    "    dog_list = driver.find_element(By.CLASS_NAME, \"animals-list\")\n",
    "    list_elements = dog_list.find_elements(By.CSS_SELECTOR, \"li\")\n",
    "    for i in range(len(list_elements)):\n",
    "        dog_list = driver.find_element(By.CLASS_NAME, \"animals-list\")\n",
    "        list_elements = dog_list.find_elements(By.CSS_SELECTOR, \"li\")\n",
    "        if(i%3 == 2):\n",
    "            list_elements[i].click()\n",
    "            dog_anno_num.append(driver.find_element(By.XPATH, '//*[@id=\"publicForm\"]/div/table/tbody/tr[1]/td').text)\n",
    "            dog_species.append(driver.find_element(By.XPATH, '//*[@id=\"publicForm\"]/div/table/tbody/tr[3]/td[1]').text)\n",
    "            dog_color.append(driver.find_element(By.XPATH, '//*[@id=\"publicForm\"]/div/table/tbody/tr[3]/td[2]').text)\n",
    "            dog_sex.append(driver.find_element(By.XPATH, '//*[@id=\"publicForm\"]/div/table/tbody/tr[4]/td[1]').text)\n",
    "            dog_goja.append(driver.find_element(By.XPATH, '//*[@id=\"publicForm\"]/div/table/tbody/tr[4]/td[2]').text)\n",
    "            dog_birth_year.append(int(driver.find_element(By.XPATH, '//*[@id=\"publicForm\"]/div/table/tbody/tr[5]/td').text[0:4]))\n",
    "            dog_weight.append(float(driver.find_element(By.XPATH, '//*[@id=\"publicForm\"]/div/table/tbody/tr[5]/td').text[11:13]))\n",
    "            dog_etc.append(driver.find_element(By.XPATH, '//*[@id=\"publicForm\"]/div/table/tbody/tr[8]/td').text)\n",
    "            dog_recep_date.append(driver.find_element(By.XPATH, '//*[@id=\"publicForm\"]/div/table/tbody/tr[9]/td[2]').text)\n",
    "            dog_return_result.append(driver.find_element(By.XPATH, '//*[@id=\"publicForm\"]/div/table/tbody/tr[11]/td[2]').text)\n",
    "            driver.find_element(By.XPATH, '//*[@id=\"contents\"]/div/div/div/button').click()\n",
    "            time.sleep(1)\n",
    "        else:\n",
    "            continue\n",
    "\n",
    "driver.quit()"
   ]
  },
  {
   "cell_type": "code",
   "execution_count": null,
   "metadata": {},
   "outputs": [],
   "source": [
    "#CSV \n",
    "import pandas as pd \n",
    "df_dog = pd.DataFrame({\"공고번호\" : dog_anno_num,\n",
    "                       \"품종\" : dog_species,\n",
    "                       \"색\" : dog_color,\n",
    "                       \"성별\" : dog_sex,\n",
    "                       \"중성화유무\" : dog_goja,\n",
    "                       \"탄생연도\" : dog_birth_year,\n",
    "                       \"무게\" : dog_weight,\n",
    "                       \"기타특징\" : dog_etc,\n",
    "                       \"접수날짜\" : dog_recep_date,\n",
    "                       \"상태\" : dog_return_result\n",
    "                       })"
   ]
  },
  {
   "cell_type": "code",
   "execution_count": null,
   "metadata": {},
   "outputs": [],
   "source": [
    "df.to_csv(\"animal_adopt.csv\")"
   ]
  }
 ],
 "metadata": {
  "language_info": {
   "name": "python"
  }
 },
 "nbformat": 4,
 "nbformat_minor": 2
}
