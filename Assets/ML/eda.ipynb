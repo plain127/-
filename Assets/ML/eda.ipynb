{
  "cells": [
    {
      "cell_type": "code",
      "execution_count": null,
      "metadata": {
        "id": "ya_BLduh8hJO"
      },
      "outputs": [],
      "source": [
        "import pandas as pd"
      ]
    },
    {
      "cell_type": "code",
      "execution_count": null,
      "metadata": {
        "id": "GeOwN9al8l73"
      },
      "outputs": [],
      "source": [
        "df = pd.read_csv(\"./data/merged_dog_tf.csv\")\n",
        "df.head()"
      ]
    },
    {
      "cell_type": "code",
      "execution_count": null,
      "metadata": {
        "id": "0_kAJaw4I75p"
      },
      "outputs": [],
      "source": [
        "df.info()"
      ]
    },
    {
      "cell_type": "code",
      "execution_count": null,
      "metadata": {
        "id": "80rsCb9qJGHk"
      },
      "outputs": [],
      "source": [
        "df.isnull().sum()"
      ]
    },
    {
      "cell_type": "code",
      "execution_count": null,
      "metadata": {
        "id": "wKiZzYP1JNcA"
      },
      "outputs": [],
      "source": [
        "df = df.dropna()\n",
        "df"
      ]
    },
    {
      "cell_type": "code",
      "execution_count": null,
      "metadata": {
        "id": "flaih6WwJQ8O"
      },
      "outputs": [],
      "source": [
        "df['품종'].value_counts()"
      ]
    },
    {
      "cell_type": "code",
      "execution_count": null,
      "metadata": {
        "id": "F7WlCjRtJuVM"
      },
      "outputs": [],
      "source": [
        "df['품종'].value_counts().keys()[0:]"
      ]
    },
    {
      "cell_type": "code",
      "execution_count": null,
      "metadata": {
        "collapsed": true,
        "id": "HkSloznyK35M"
      },
      "outputs": [],
      "source": [
        "df = df.drop('무게', axis=1)"
      ]
    },
    {
      "cell_type": "code",
      "execution_count": null,
      "metadata": {
        "id": "M5pcKRYROko4"
      },
      "outputs": [],
      "source": [
        "for i in df[df['종류'] == '개']['품종']:\n",
        "    if i != '믹스견' and i != '푸들' and i != '말티즈' and i != '포메라니안' and i != '진도견' and i != '치와와' and i != '비숑 프리제' and i != '시츄' and i != '시바':\n",
        "        df.replace(i, '기타품종견', inplace = True)"
      ]
    },
    {
      "cell_type": "code",
      "execution_count": null,
      "metadata": {
        "collapsed": true,
        "id": "eVoEd9d9VGgo"
      },
      "outputs": [],
      "source": [
        "df['색'].value_counts()[:10]"
      ]
    },
    {
      "cell_type": "code",
      "execution_count": null,
      "metadata": {
        "id": "jzKhOnTHWvMk"
      },
      "outputs": [],
      "source": [
        "for i in df['색']:\n",
        "    if i == '검':\n",
        "        df.replace(i, '흑', inplace = True)\n",
        "    elif i == '흰':\n",
        "        df.replace(i, '백', inplace = True)\n",
        "    elif i != '흰' and i != '검' and i != '갈' and i != '황' and i != '흑' and i != '백' and i != '회':\n",
        "        df.replace(i, '기타', inplace = True)"
      ]
    },
    {
      "cell_type": "code",
      "execution_count": null,
      "metadata": {
        "collapsed": true,
        "id": "iD7JjwZeYnRG"
      },
      "outputs": [],
      "source": [
        "for i in df['지역']:\n",
        "    if i == '서울' or i == '인천' or i == '경기':\n",
        "        df['지역'].replace(i, '수도권', inplace = True)\n",
        "    elif i == '충남' or i == '충북' or i == '대전' or i == '세종' :\n",
        "        df['지역'].replace(i, '호서', inplace = True)\n",
        "    elif i == '전북' or i == '전남' or i == '광주' :\n",
        "        df['지역'].replace(i, '호남', inplace = True)\n",
        "    elif i == '대구' or i == '경남' or i == '경북' or i == '부산' or i == '울산' :\n",
        "        df['지역'].replace(i, '영남', inplace = True)\n",
        "    elif i == '강원' :\n",
        "        df['지역'].replace(i, '관동', inplace = True)\n",
        "    elif i == '제주' :\n",
        "        df['지역'].replace(i, '제주', inplace = True)\n",
        "df"
      ]
    },
    {
      "cell_type": "code",
      "execution_count": null,
      "metadata": {
        "collapsed": true,
        "id": "oO5p6z7oZD3I"
      },
      "outputs": [],
      "source": [
        "df['중성화유무'].value_counts()"
      ]
    },
    {
      "cell_type": "code",
      "execution_count": null,
      "metadata": {
        "collapsed": true,
        "id": "CrLj5Hs1chez"
      },
      "outputs": [],
      "source": [
        "df['나이'].describe()"
      ]
    },
    {
      "cell_type": "code",
      "execution_count": null,
      "metadata": {
        "collapsed": true,
        "id": "MYfXrJHicjhF"
      },
      "outputs": [],
      "source": [
        "df['나이'].value_counts()"
      ]
    },
    {
      "cell_type": "code",
      "execution_count": null,
      "metadata": {
        "id": "79quXQ_sLQGS"
      },
      "outputs": [],
      "source": [
        "for i in df['나이']:\n",
        "    if i <= 1 :\n",
        "        df.replace(i, '유년', inplace = True)\n",
        "    elif i > 1 and i <= 7 :\n",
        "        df.replace(i, '성년', inplace = True)\n",
        "    else:\n",
        "        df.replace(i, '노년', inplace = True)\n",
        "df['나이'].value_counts()"
      ]
    },
    {
      "cell_type": "code",
      "execution_count": null,
      "metadata": {
        "id": "ejDVf7xONpuB"
      },
      "outputs": [],
      "source": [
        "df['상태'].value_counts()"
      ]
    },
    {
      "cell_type": "code",
      "execution_count": null,
      "metadata": {
        "id": "gPV3AJmxTcqT"
      },
      "outputs": [],
      "source": [
        "df = df[df['상태'] != '방사']\n",
        "df = df[df['상태'] != '반환']"
      ]
    },
    {
      "cell_type": "code",
      "execution_count": null,
      "metadata": {
        "id": "xanL4R1wTh6D"
      },
      "outputs": [],
      "source": [
        "for i in df['상태']:\n",
        "    if i == '기증':\n",
        "        df['상태'].replace(i, '입양', inplace = True)\n",
        "    elif i == '안락사' or i == '자연사':\n",
        "        df['상태'].replace(i, '미입양', inplace = True)\n",
        "df['상태'].value_counts()"
      ]
    },
    {
      "cell_type": "code",
      "execution_count": null,
      "metadata": {
        "id": "NxOz8AqZUK7B"
      },
      "outputs": [],
      "source": [
        "df = df.drop('종류', axis=1)"
      ]
    },
    {
      "cell_type": "code",
      "execution_count": null,
      "metadata": {
        "id": "sB9z0QipWGyD"
      },
      "outputs": [],
      "source": [
        "df = df[df['성별'] != '미상']\n",
        "df['성별'].value_counts()"
      ]
    },
    {
      "cell_type": "code",
      "execution_count": null,
      "metadata": {
        "id": "jkQJepqyYsPX"
      },
      "outputs": [],
      "source": [
        "df.to_csv('./data/dogs_eda_data.csv',encoding='utf-8-sig', index=False)"
      ]
    }
  ],
  "metadata": {
    "colab": {
      "private_outputs": true,
      "provenance": []
    },
    "kernelspec": {
      "display_name": "Python 3",
      "name": "python3"
    },
    "language_info": {
      "name": "python"
    }
  },
  "nbformat": 4,
  "nbformat_minor": 0
}
