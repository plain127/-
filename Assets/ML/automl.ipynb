{
  "cells": [
    {
      "cell_type": "code",
      "execution_count": null,
      "metadata": {
        "id": "BtTs9hFd4Lzd"
      },
      "outputs": [],
      "source": [
        "import pandas as pd"
      ]
    },
    {
      "cell_type": "code",
      "execution_count": null,
      "metadata": {
        "collapsed": true,
        "id": "s-l6GgMx4VDU"
      },
      "outputs": [],
      "source": [
        "df = pd.read_csv(\"./dogs_eda_data.csv\")\n",
        "df.head()"
      ]
    },
    {
      "cell_type": "code",
      "execution_count": null,
      "metadata": {
        "collapsed": true,
        "id": "C58aslFq4eQD"
      },
      "outputs": [],
      "source": [
        "!pip install autoviz"
      ]
    },
    {
      "cell_type": "code",
      "execution_count": null,
      "metadata": {
        "id": "vJEUuJUA4kKh"
      },
      "outputs": [],
      "source": [
        "from autoviz.AutoViz_Class import AutoViz_Class\n",
        "import matplotlib.pyplot as plt\n",
        "%matplotlib inline"
      ]
    },
    {
      "cell_type": "code",
      "execution_count": null,
      "metadata": {
        "id": "AlcaS57949ri"
      },
      "outputs": [],
      "source": [
        "df.shape"
      ]
    },
    {
      "cell_type": "code",
      "execution_count": null,
      "metadata": {
        "collapsed": true,
        "id": "8cZ_l_Rq5z4s"
      },
      "outputs": [],
      "source": [
        "av = AutoViz_Class()\n",
        "av.AutoViz(\n",
        "    filename = '',\n",
        "    dfte = df,\n",
        "    depVar = '상태',\n",
        "    verbose = 1,\n",
        "    max_rows_analyzed = df.shape[0],\n",
        "    max_cols_analyzed = df.shape[1]\n",
        ")"
      ]
    }
  ],
  "metadata": {
    "colab": {
      "private_outputs": true,
      "provenance": []
    },
    "kernelspec": {
      "display_name": "Python 3",
      "name": "python3"
    },
    "language_info": {
      "name": "python"
    }
  },
  "nbformat": 4,
  "nbformat_minor": 0
}
