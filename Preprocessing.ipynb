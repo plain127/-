{
  "cells": [
    {
      "cell_type": "code",
      "execution_count": null,
      "metadata": {
        "id": "2IKHj17leY8V"
      },
      "outputs": [],
      "source": [
        "import pandas as pd\n",
        "import numpy as np"
      ]
    },
    {
      "cell_type": "code",
      "execution_count": null,
      "metadata": {
        "id": "snGrsYW5ekQI"
      },
      "outputs": [],
      "source": [
        "df = pd.read_csv(\"./data/dogs_eda_data.csv\")\n",
        "df.head()"
      ]
    },
    {
      "cell_type": "code",
      "execution_count": null,
      "metadata": {
        "id": "FXEbYLyTewL6"
      },
      "outputs": [],
      "source": [
        "from sklearn.preprocessing import LabelEncoder"
      ]
    },
    {
      "cell_type": "code",
      "execution_count": null,
      "metadata": {
        "id": "iqQeq3UTbHbt"
      },
      "outputs": [],
      "source": [
        "df['품종'].value_counts()"
      ]
    },
    {
      "cell_type": "code",
      "execution_count": null,
      "metadata": {
        "collapsed": true,
        "id": "SEqs_Bipciml"
      },
      "outputs": [],
      "source": [
        "le = LabelEncoder()\n",
        "df['품종'] = le.fit_transform(df['품종'])\n",
        "df['품종'].value_counts()"
      ]
    },
    {
      "cell_type": "code",
      "execution_count": null,
      "metadata": {
        "id": "WhwTQUqpeXO-"
      },
      "outputs": [],
      "source": [
        "df['색'].value_counts()"
      ]
    },
    {
      "cell_type": "code",
      "execution_count": null,
      "metadata": {
        "collapsed": true,
        "id": "48DxlFbCdGZk"
      },
      "outputs": [],
      "source": [
        "df['색'] = le.fit_transform(df['색'])\n",
        "df['색'].value_counts()"
      ]
    },
    {
      "cell_type": "code",
      "execution_count": null,
      "metadata": {
        "id": "8JEdF-Bbe-PI"
      },
      "outputs": [],
      "source": [
        "df['성별'].value_counts()"
      ]
    },
    {
      "cell_type": "code",
      "execution_count": null,
      "metadata": {
        "id": "htsEHRbvgLWt"
      },
      "outputs": [],
      "source": [
        "df['성별'] = le.fit_transform(df['성별'])\n",
        "df['성별'].value_counts()"
      ]
    },
    {
      "cell_type": "code",
      "execution_count": null,
      "metadata": {
        "id": "nf73akVyfRrf"
      },
      "outputs": [],
      "source": [
        "df['중성화유무'].value_counts()"
      ]
    },
    {
      "cell_type": "code",
      "execution_count": null,
      "metadata": {
        "id": "BuBELLi8gPGC"
      },
      "outputs": [],
      "source": [
        "df['중성화유무'] = le.fit_transform(df['중성화유무'])\n",
        "df['중성화유무'].value_counts()"
      ]
    },
    {
      "cell_type": "code",
      "execution_count": null,
      "metadata": {
        "id": "cGV-JSDnffKu"
      },
      "outputs": [],
      "source": [
        "df['나이'].value_counts()"
      ]
    },
    {
      "cell_type": "code",
      "execution_count": null,
      "metadata": {
        "id": "P8CTfRJ3kNBZ"
      },
      "outputs": [],
      "source": [
        "df['나이'] = le.fit_transform(df['나이'])\n",
        "df['나이'].value_counts()"
      ]
    },
    {
      "cell_type": "code",
      "execution_count": null,
      "metadata": {
        "id": "bX2Fu9WFftWM"
      },
      "outputs": [],
      "source": [
        "df['지역'].value_counts()"
      ]
    },
    {
      "cell_type": "code",
      "execution_count": null,
      "metadata": {
        "id": "OUxGjwrbpxyk"
      },
      "outputs": [],
      "source": [
        "df['지역'] = le.fit_transform(df['지역'])\n",
        "df['지역'].value_counts()"
      ]
    },
    {
      "cell_type": "code",
      "execution_count": null,
      "metadata": {
        "id": "Ewfw59efgc02"
      },
      "outputs": [],
      "source": [
        "df['크기'].value_counts()"
      ]
    },
    {
      "cell_type": "code",
      "execution_count": null,
      "metadata": {
        "id": "-2zb1xarp6Xz"
      },
      "outputs": [],
      "source": [
        "df['크기'] = le.fit_transform(df['크기'])\n",
        "df['크기'].value_counts()"
      ]
    },
    {
      "cell_type": "code",
      "execution_count": null,
      "metadata": {
        "id": "_JhNQHsqp-cF"
      },
      "outputs": [],
      "source": [
        "df['상태'].value_counts()"
      ]
    },
    {
      "cell_type": "code",
      "execution_count": null,
      "metadata": {
        "id": "sz2J8asirlrw"
      },
      "outputs": [],
      "source": [
        "df['상태'] = le.fit_transform(df['상태'])\n",
        "df['상태'].value_counts()"
      ]
    },
    {
      "cell_type": "code",
      "execution_count": null,
      "metadata": {
        "id": "QLOQ3pe1sdO9"
      },
      "outputs": [],
      "source": [
        "df.to_csv('./data/dogs_encoder_data.csv', encoding = 'utf-8-sig', index=False)"
      ]
    }
  ],
  "metadata": {
    "colab": {
      "private_outputs": true,
      "provenance": []
    },
    "kernelspec": {
      "display_name": "Python 3",
      "name": "python3"
    },
    "language_info": {
      "name": "python"
    }
  },
  "nbformat": 4,
  "nbformat_minor": 0
}
